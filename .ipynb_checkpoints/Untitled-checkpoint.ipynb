{
 "cells": [
  {
   "cell_type": "code",
   "execution_count": 1,
   "metadata": {},
   "outputs": [
    {
     "name": "stdout",
     "output_type": "stream",
     "text": [
      "అక్షరాని చూపెటండి: \n",
      "అ\n",
      "వత్తు చూపెటండి: \n",
      "1\n",
      "గునితాని చూపెటండి: \n",
      "2\n",
      "అక్షరాని చూపెటండి: \n",
      "అమ\n",
      "వత్తు చూపెటండి: \n",
      "1\n",
      "గునితాని చూపెటండి: \n"
     ]
    },
    {
     "ename": "TypeError",
     "evalue": "can only concatenate str (not \"NoneType\") to str",
     "output_type": "error",
     "traceback": [
      "\u001b[0;31m---------------------------------------------------------------------------\u001b[0m",
      "\u001b[0;31mTypeError\u001b[0m                                 Traceback (most recent call last)",
      "\u001b[0;32m<ipython-input-1-e9e3c0dc8c9a>\u001b[0m in \u001b[0;36m<module>\u001b[0;34m\u001b[0m\n\u001b[1;32m    147\u001b[0m                         \u001b[0mlast\u001b[0m\u001b[0;34m=\u001b[0m\u001b[0ms\u001b[0m\u001b[0;34m[\u001b[0m\u001b[0;34m-\u001b[0m\u001b[0;36m1\u001b[0m\u001b[0;34m]\u001b[0m\u001b[0;34m\u001b[0m\u001b[0;34m\u001b[0m\u001b[0m\n\u001b[1;32m    148\u001b[0m \u001b[0;31m#                         print(y_pred[0])\u001b[0m\u001b[0;34m\u001b[0m\u001b[0;34m\u001b[0m\u001b[0;34m\u001b[0m\u001b[0m\n\u001b[0;32m--> 149\u001b[0;31m                         \u001b[0ms\u001b[0m\u001b[0;34m=\u001b[0m\u001b[0ms\u001b[0m\u001b[0;34m[\u001b[0m\u001b[0;34m:\u001b[0m\u001b[0;34m-\u001b[0m\u001b[0;36m1\u001b[0m\u001b[0;34m]\u001b[0m\u001b[0;34m+\u001b[0m\u001b[0mfun2\u001b[0m\u001b[0;34m(\u001b[0m\u001b[0mlast\u001b[0m\u001b[0;34m,\u001b[0m\u001b[0mdictionary\u001b[0m\u001b[0;34m[\u001b[0m\u001b[0mstr\u001b[0m\u001b[0;34m(\u001b[0m\u001b[0my_pred\u001b[0m\u001b[0;34m[\u001b[0m\u001b[0;36m0\u001b[0m\u001b[0;34m]\u001b[0m\u001b[0;34m)\u001b[0m\u001b[0;34m]\u001b[0m\u001b[0;34m,\u001b[0m\u001b[0mc\u001b[0m\u001b[0;34m)\u001b[0m\u001b[0;34m\u001b[0m\u001b[0;34m\u001b[0m\u001b[0m\n\u001b[0m\u001b[1;32m    150\u001b[0m                     \u001b[0;32melse\u001b[0m\u001b[0;34m:\u001b[0m\u001b[0;34m\u001b[0m\u001b[0;34m\u001b[0m\u001b[0m\n\u001b[1;32m    151\u001b[0m                         \u001b[0mlast\u001b[0m\u001b[0;34m=\u001b[0m\u001b[0ms\u001b[0m\u001b[0;34m[\u001b[0m\u001b[0mlen\u001b[0m\u001b[0;34m(\u001b[0m\u001b[0ms\u001b[0m\u001b[0;34m)\u001b[0m\u001b[0;34m-\u001b[0m\u001b[0;36m3\u001b[0m\u001b[0;34m:\u001b[0m\u001b[0;34m]\u001b[0m\u001b[0;34m\u001b[0m\u001b[0;34m\u001b[0m\u001b[0m\n",
      "\u001b[0;31mTypeError\u001b[0m: can only concatenate str (not \"NoneType\") to str"
     ]
    }
   ],
   "source": [
    "# %load './n.py'\n",
    "import cv2\n",
    "import mediapipe as mp \n",
    "import joblib\n",
    "import numpy as np \n",
    "from gtts import gTTS\n",
    "import os \n",
    "from s import *\n",
    "mp_drawing = mp.solutions.drawing_utils\n",
    "mp_hands = mp.solutions.hands\n",
    "s=''\n",
    "i=0\n",
    "k=0\n",
    "vowels={\"ఆ\":\"ా\", \"ఇ\":\"ి\",\"ఈ\":\"ీ\",\"ఉ\":\"ు\",\"ఊ\":\"ూ\", \"ఋ\":\"ృ\", \"ౠ\":\"ౄ\", \"ఎ\":\"ె\", \"ఏ\":\"ే\", \"ఐ\": \"ై\", \"ఒ\": \"ొ\", \"ఓ\": \"ో\", \"ఔ\": \"ౌ\", \"అం\": \"ం\", \"అః\":\"ః\" }\n",
    "dictionary={\n",
    "  \"a\":'అ',\n",
    "  \"aa\":\"ఆ\",\n",
    "  \"i\":'ఇ',\n",
    "  \"u\": \"ఉ\",\n",
    "  \"e\":\"ఎ\",\n",
    "  \"ai\":\"ఐ\",\n",
    "  \"o\": \"ఒ\",\n",
    "  \"au\": \"ఔ\",\n",
    "  \"am\": \"అం\",\n",
    "  \"ka\": \"క\",\n",
    "  \"ga\": \"గ\",\n",
    "  \"ja\": \"జ\",\n",
    "  \"tta\": \"ట\",\n",
    "  \"da\":\"డ\",\n",
    "  \"ta\": \"త\",\n",
    "  \"dha\": \"ద\",\n",
    "  \"na\": \"న\",\n",
    "  \"pa\":\"ప\",\n",
    "  \"fa\":\"ఫ\",\n",
    "  \"ba\": \"బ\",\n",
    "  \"ma\": \"మ\",\n",
    "  \"ya\": \"య\",\n",
    "  \"ra\": \"ర\",\n",
    "  \"la\": \"ల\",\n",
    "  \"va\": \"వ\",\n",
    "  \"sa\": \"స\",\n",
    "  \"ha\":\"హ\",\n",
    "}\n",
    "hands = mp_hands.Hands(\n",
    "    min_detection_confidence=0.7, min_tracking_confidence=0.5)\n",
    "\n",
    "cap = cv2.VideoCapture(0)\n",
    "\n",
    "def data_clean(landmark):\n",
    "    data = landmark[0]\n",
    "    try:\n",
    "        data = str(data)\n",
    "        data = data.strip().split('\\n')\n",
    "        garbage = ['landmark {', '  visibility: 0.0', '  presence: 0.0', '}']\n",
    "        without_garbage = []\n",
    "        \n",
    "        for i in data:\n",
    "            if i not in garbage:\n",
    "                without_garbage.append(i)\n",
    "        \n",
    "        clean = []\n",
    "        \n",
    "        for i in without_garbage:\n",
    "            i = i.strip()\n",
    "            clean.append(i[2:])\n",
    "        \n",
    "        for i in range(0, len(clean)):\n",
    "            clean[i] = float(clean[i])\n",
    "            \n",
    "        return([clean])\n",
    "    except:\n",
    "        return(np.zeros([1,63], dtype=int)[0])\n",
    "print(\"అక్షరాని చూపెటండి: \")\n",
    "while cap.isOpened():\n",
    "    key = cv2.waitKey(1)\n",
    "    if key==ord('n'):\n",
    "        print(k)\n",
    "        k=(k+1)%3\n",
    "        if k==0:\n",
    "            print(\"అక్షరాని చూపెటండి: \")\n",
    "        if k==1:\n",
    "            print(\"వత్తు చూపెటండి: \")\n",
    "        if k==2:\n",
    "            print(\"గునితాని చూపెటండి: \")\n",
    "    success, image = cap.read()\n",
    "    image = cv2.flip(image, 1)\n",
    "    \n",
    "    if not success:\n",
    "        break\n",
    "    image = cv2.cvtColor(image, cv2.COLOR_BGR2RGB)  \n",
    "    image.flags.writeable = False\n",
    "    results = hands.process(image)\n",
    "    image.flags.writeable = True\n",
    "    image = cv2.cvtColor(image, cv2.COLOR_RGB2BGR)\n",
    "    if results.multi_hand_landmarks:\n",
    "        for hand_landmarks in results.multi_hand_landmarks:\n",
    "            mp_drawing.draw_landmarks(image, hand_landmarks, mp_hands.HAND_CONNECTIONS)\n",
    "        cleaned_landmark = data_clean(results.multi_hand_landmarks)\n",
    "#         print(k)\n",
    "        if cleaned_landmark:\n",
    "            clf = joblib.load('model.pkl')\n",
    "            y_pred = clf.predict(cleaned_landmark)\n",
    "            if i==30:\n",
    "                if(k==0):\n",
    "#                     clf = joblib.load('model2.pkl')\n",
    "#                     y_pred = clf.predict(cleaned_landmark)\n",
    "#                     image = cv2.putText(image, str(y_pred[0]), (50,150), cv2.FONT_HERSHEY_SIMPLEX,  3, (0,0,255), 2, cv2.LINE_AA) \n",
    "                    c=str(dictionary[y_pred[0]])\n",
    "                    s+=c\n",
    "                if(k==1):\n",
    "#                     clf = joblib.load('model2.pkl')\n",
    "#                     y_pred = clf.predict(cleaned_landmark)\n",
    "#                     image = cv2.putText(image, str(y_pred[0]), (50,150), cv2.FONT_HERSHEY_SIMPLEX,  3, (0,0,255), 2, cv2.LINE_AA) \n",
    "                    last=s[-1]\n",
    "                    c=last\n",
    "                    s=str(s[:-1]+str(fun1(last, dictionary[str(y_pred[0])])))\n",
    "                if(k==2):\n",
    "#                     clf = joblib.load('model1.pkl')\n",
    "#                     y_pred = clf.predict(cleaned_landmark)\n",
    "#                     image = cv2.putText(image, str(y_pred[0]), (50,150), cv2.FONT_HERSHEY_SIMPLEX,  3, (0,0,255), 2, cv2.LINE_AA) \n",
    "                    if s[-1]==c:\n",
    "                        last=s[-1]\n",
    "#                         print(y_pred[0])\n",
    "                        s=s[:-1]+fun2(last,dictionary[str(y_pred[0])],c)\n",
    "                    else:\n",
    "                        last=s[len(s)-3:]\n",
    "                        s=s[:len(s)-3]+fun2(last,dictionary[str(y_pred[0])],c)\n",
    "                    print(last,dictionary[str(y_pred[0])],c)\n",
    "                print(s)\n",
    "                k=(k+1)%3\n",
    "                i=0\n",
    "                if k==0:\n",
    "                    print(\"అక్షరాని చూపెటండి: \")\n",
    "                if k==1:\n",
    "                    print(\"వత్తు చూపెటండి: \")\n",
    "                if k==2:\n",
    "                    print(\"గునితాని చూపెటండి: \")\n",
    "            i+=1\n",
    "        image = cv2.putText(image, str(y_pred[0]), (700,150), cv2.FONT_HERSHEY_SIMPLEX,  3, (0,0,255), 2, cv2.LINE_AA) \n",
    "    cv2.imshow('MediaPipe Hands', image)\n",
    "    if key==ord(' '):\n",
    "        s+=\" \"\n",
    "        print(\"స్పెస్: \")\n",
    "        print(s)\n",
    "        k=0\n",
    "    if key==ord('s'):\n",
    "        mytext = s\n",
    "        language = 'te'\n",
    "        myobj = gTTS(text=mytext, lang=language, slow=False)\n",
    "        myobj.save(\"sound.mp3\")\n",
    "        os.system(\"play sound.mp3\")\n",
    "#         break\n",
    "\n",
    "hands.close()\n",
    "cap.release()\n",
    "cv2.destroyAllWindows()"
   ]
  },
  {
   "cell_type": "raw",
   "metadata": {},
   "source": [
    "s=\"యెయ్యెయ\""
   ]
  },
  {
   "cell_type": "code",
   "execution_count": 4,
   "metadata": {},
   "outputs": [
    {
     "ename": "NameError",
     "evalue": "name 's' is not defined",
     "output_type": "error",
     "traceback": [
      "\u001b[0;31m---------------------------------------------------------------------------\u001b[0m",
      "\u001b[0;31mNameError\u001b[0m                                 Traceback (most recent call last)",
      "\u001b[0;32m<ipython-input-4-c71df1a6e151>\u001b[0m in \u001b[0;36m<module>\u001b[0;34m\u001b[0m\n\u001b[0;32m----> 1\u001b[0;31m \u001b[0mlen\u001b[0m\u001b[0;34m(\u001b[0m\u001b[0ms\u001b[0m\u001b[0;34m)\u001b[0m\u001b[0;34m\u001b[0m\u001b[0;34m\u001b[0m\u001b[0m\n\u001b[0m",
      "\u001b[0;31mNameError\u001b[0m: name 's' is not defined"
     ]
    }
   ],
   "source": [
    "len(s)"
   ]
  },
  {
   "cell_type": "code",
   "execution_count": 5,
   "metadata": {},
   "outputs": [
    {
     "ename": "NameError",
     "evalue": "name 's' is not defined",
     "output_type": "error",
     "traceback": [
      "\u001b[0;31m---------------------------------------------------------------------------\u001b[0m",
      "\u001b[0;31mNameError\u001b[0m                                 Traceback (most recent call last)",
      "\u001b[0;32m<ipython-input-5-8fda175ae240>\u001b[0m in \u001b[0;36m<module>\u001b[0;34m\u001b[0m\n\u001b[0;32m----> 1\u001b[0;31m \u001b[0mprint\u001b[0m\u001b[0;34m(\u001b[0m\u001b[0ms\u001b[0m\u001b[0;34m[\u001b[0m\u001b[0mlen\u001b[0m\u001b[0;34m(\u001b[0m\u001b[0ms\u001b[0m\u001b[0;34m)\u001b[0m\u001b[0;34m-\u001b[0m\u001b[0;36m3\u001b[0m\u001b[0;34m:\u001b[0m\u001b[0;34m]\u001b[0m\u001b[0;34m)\u001b[0m\u001b[0;34m\u001b[0m\u001b[0;34m\u001b[0m\u001b[0m\n\u001b[0m",
      "\u001b[0;31mNameError\u001b[0m: name 's' is not defined"
     ]
    }
   ],
   "source": [
    "print(s[len(s)-3:])"
   ]
  },
  {
   "cell_type": "code",
   "execution_count": 1,
   "metadata": {},
   "outputs": [
    {
     "name": "stdout",
     "output_type": "stream",
     "text": [
      "Collecting playsound\n",
      "  Downloading playsound-1.3.0.tar.gz (7.7 kB)\n",
      "  Preparing metadata (setup.py) ... \u001b[?25ldone\n",
      "\u001b[?25hBuilding wheels for collected packages: playsound\n",
      "  Building wheel for playsound (setup.py) ... \u001b[?25ldone\n",
      "\u001b[?25h  Created wheel for playsound: filename=playsound-1.3.0-py3-none-any.whl size=7026 sha256=59b4bf531d43837dc1e44c585c58dde8dda4860fae0a4a8f476fdf2be403ffad\n",
      "  Stored in directory: /Users/adarshbabbula/Library/Caches/pip/wheels/73/cd/cf/9750b618d54bd81c20e4c34fb24a423a5b095920367cdb3f71\n",
      "Successfully built playsound\n",
      "Installing collected packages: playsound\n",
      "Successfully installed playsound-1.3.0\n",
      "\u001b[33mWARNING: You are using pip version 21.3.1; however, version 22.0.4 is available.\n",
      "You should consider upgrading via the '/opt/anaconda3/bin/python -m pip install --upgrade pip' command.\u001b[0m\n",
      "Note: you may need to restart the kernel to use updated packages.\n"
     ]
    }
   ],
   "source": []
  },
  {
   "cell_type": "code",
   "execution_count": null,
   "metadata": {},
   "outputs": [],
   "source": []
  }
 ],
 "metadata": {
  "kernelspec": {
   "display_name": "Python 3",
   "language": "python",
   "name": "python3"
  },
  "language_info": {
   "codemirror_mode": {
    "name": "ipython",
    "version": 3
   },
   "file_extension": ".py",
   "mimetype": "text/x-python",
   "name": "python",
   "nbconvert_exporter": "python",
   "pygments_lexer": "ipython3",
   "version": "3.8.5"
  }
 },
 "nbformat": 4,
 "nbformat_minor": 4
}
