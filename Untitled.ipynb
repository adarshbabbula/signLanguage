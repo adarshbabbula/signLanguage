{
 "cells": [
  {
   "cell_type": "code",
   "execution_count": 1,
   "metadata": {},
   "outputs": [
    {
     "name": "stdout",
     "output_type": "stream",
     "text": [
      "vathhu: \n",
      "య\n",
      " \n",
      "gunintham: \n",
      "య్ర\n",
      " \n",
      "య్ర ఎ య\n",
      "letter: \n",
      "య్రె\n",
      " \n",
      "vathhu: \n",
      "య్రెఘ\n",
      " \n",
      "gunintham: \n",
      "య్రెNone\n",
      " \n",
      "one అ ఘ\n"
     ]
    },
    {
     "ename": "TypeError",
     "evalue": "can only concatenate str (not \"NoneType\") to str",
     "output_type": "error",
     "traceback": [
      "\u001b[0;31m---------------------------------------------------------------------------\u001b[0m",
      "\u001b[0;31mTypeError\u001b[0m                                 Traceback (most recent call last)",
      "\u001b[0;32m<ipython-input-1-11e4cbb16bfc>\u001b[0m in \u001b[0;36m<module>\u001b[0;34m\u001b[0m\n\u001b[1;32m    157\u001b[0m           \u001b[0mlast\u001b[0m\u001b[0;34m=\u001b[0m\u001b[0ms\u001b[0m\u001b[0;34m[\u001b[0m\u001b[0mlen\u001b[0m\u001b[0;34m(\u001b[0m\u001b[0ms\u001b[0m\u001b[0;34m)\u001b[0m\u001b[0;34m-\u001b[0m\u001b[0;36m3\u001b[0m\u001b[0;34m:\u001b[0m\u001b[0;34m]\u001b[0m\u001b[0;34m\u001b[0m\u001b[0;34m\u001b[0m\u001b[0m\n\u001b[1;32m    158\u001b[0m           \u001b[0mprint\u001b[0m\u001b[0;34m(\u001b[0m\u001b[0mlast\u001b[0m\u001b[0;34m,\u001b[0m\u001b[0mdictionary\u001b[0m\u001b[0;34m[\u001b[0m\u001b[0mstr\u001b[0m\u001b[0;34m(\u001b[0m\u001b[0my_pred\u001b[0m\u001b[0;34m[\u001b[0m\u001b[0;36m0\u001b[0m\u001b[0;34m]\u001b[0m\u001b[0;34m)\u001b[0m\u001b[0;34m]\u001b[0m\u001b[0;34m,\u001b[0m\u001b[0mc\u001b[0m\u001b[0;34m)\u001b[0m\u001b[0;34m\u001b[0m\u001b[0;34m\u001b[0m\u001b[0m\n\u001b[0;32m--> 159\u001b[0;31m           \u001b[0ms\u001b[0m\u001b[0;34m=\u001b[0m\u001b[0ms\u001b[0m\u001b[0;34m[\u001b[0m\u001b[0;34m:\u001b[0m\u001b[0mlen\u001b[0m\u001b[0;34m(\u001b[0m\u001b[0ms\u001b[0m\u001b[0;34m)\u001b[0m\u001b[0;34m-\u001b[0m\u001b[0;36m3\u001b[0m\u001b[0;34m]\u001b[0m\u001b[0;34m+\u001b[0m\u001b[0mfun2\u001b[0m\u001b[0;34m(\u001b[0m\u001b[0mlast\u001b[0m\u001b[0;34m,\u001b[0m\u001b[0mdictionary\u001b[0m\u001b[0;34m[\u001b[0m\u001b[0mstr\u001b[0m\u001b[0;34m(\u001b[0m\u001b[0my_pred\u001b[0m\u001b[0;34m[\u001b[0m\u001b[0;36m0\u001b[0m\u001b[0;34m]\u001b[0m\u001b[0;34m)\u001b[0m\u001b[0;34m]\u001b[0m\u001b[0;34m,\u001b[0m\u001b[0mc\u001b[0m\u001b[0;34m)\u001b[0m\u001b[0;34m\u001b[0m\u001b[0;34m\u001b[0m\u001b[0m\n\u001b[0m\u001b[1;32m    160\u001b[0m           \u001b[0mprint\u001b[0m\u001b[0;34m(\u001b[0m\u001b[0;34m\"letter: \"\u001b[0m\u001b[0;34m)\u001b[0m\u001b[0;34m\u001b[0m\u001b[0;34m\u001b[0m\u001b[0m\n\u001b[1;32m    161\u001b[0m         \u001b[0mprint\u001b[0m\u001b[0;34m(\u001b[0m\u001b[0ms\u001b[0m\u001b[0;34m)\u001b[0m\u001b[0;34m\u001b[0m\u001b[0;34m\u001b[0m\u001b[0m\n",
      "\u001b[0;31mTypeError\u001b[0m: can only concatenate str (not \"NoneType\") to str"
     ]
    }
   ],
   "source": [
    "import cv2\n",
    "import mediapipe as mp \n",
    "import joblib\n",
    "import numpy as np \n",
    "from gtts import gTTS\n",
    "import os\n",
    "from s import *\n",
    "mp_drawing = mp.solutions.drawing_utils\n",
    "mp_hands = mp.solutions.hands\n",
    "s=''\n",
    "i=0\n",
    "k=0\n",
    "vowels={\"ఆ\":\"ా\", \"ఇ\":\"ి\",\"ఈ\":\"ీ\",\"ఉ\":\"ు\",\"ఊ\":\"ూ\", \"ఋ\":\"ృ\", \"ౠ\":\"ౄ\", \"ఎ\":\"ె\", \"ఏ\":\"ే\", \"ఐ\": \"ై\", \"ఒ\": \"ొ\", \"ఓ\": \"ో\", \"ఔ\": \"ౌ\", \"అం\": \"ం\", \"అః\":\"ః\" }\n",
    "dictionary={\n",
    "  \"a\":'అ',\n",
    "  \"aa\":\"ఆ\",\n",
    "  \"i\":'ఇ',\n",
    "  \"ii\":\"ఈ\",\n",
    "  \"u\": \"ఉ\",\n",
    "  \"uu\": \"ఊ\",\n",
    "  \"ru\": \"ఋ\",\n",
    "  \"ruu\": \"ఋూ\",\n",
    "  \"e\":\"ఎ\",\n",
    "  \"ei\":\"ఏ\",\n",
    "  \"ai\":\"ఐ\",\n",
    "  \"o\": \"ఒ\",\n",
    "  \"oo\":\"ఓ\",\n",
    "  \"au\": \"ఔ\",\n",
    "  \"am\": \"అం\",\n",
    "  \"ah\":\"అః\",\n",
    "  \"ka\": \"క\",\n",
    "  \"kha\": \"ఖ\",\n",
    "  \"ga\": \"గ\",\n",
    "  \"gha\": \"ఘ\",\n",
    "  \"ena\":\"ఙ\",\n",
    "  \"ca\": \"చ\",\n",
    "  \"cha\": \"ఛ\",\n",
    "  \"ja\": \"జ\",\n",
    "  \"jha\": \"ఝ\",\n",
    "  \"ina\": \"ఞ\",\n",
    "  \"tta\": \"ట\",\n",
    "  \"ttha\":\"ఠ\",\n",
    "  \"dda\":\"డ\",\n",
    "  \"ddha\": \"ఢ\",\n",
    "  \"ana\":\"ణ\",\n",
    "  \"ta\": \"త\",\n",
    "  \"tha\": \"థ\",\n",
    "  \"da\": \"ద\",\n",
    "  \"dha\": \"ధ\",\n",
    "  \"na\": \"న\",\n",
    "  \"pa\":\"ప\",\n",
    "  \"fa\":\"ఫ\",\n",
    "  \"ba\": \"బ\",\n",
    "  \"bha\": \"భ\",\n",
    "  \"ma\": \"మ\",\n",
    "  \"ya\": \"య\",\n",
    "  \"ra\": \"ర\",\n",
    "  \"la\": \"ల\",\n",
    "  \"va\": \"వ\",\n",
    "  \"lha\": \"ళ\",\n",
    "  \"she\":\"శ\",\n",
    "  \"sha\":\"ష\",\n",
    "  \"sa\": \"స\",\n",
    "  \"ha\":\"హ\",\n",
    "  \"ksha\":\"క్ష\",\n",
    "  \"rha\": \"ఱ\"\n",
    "}\n",
    "# For webcam input:\n",
    "hands = mp_hands.Hands(\n",
    "    min_detection_confidence=0.7, min_tracking_confidence=0.5)\n",
    "\n",
    "cap = cv2.VideoCapture(0)\n",
    "\n",
    "def data_clean(landmark):\n",
    "  \n",
    "  data = landmark[0]\n",
    "  \n",
    "  try:\n",
    "    data = str(data)\n",
    "\n",
    "    data = data.strip().split('\\n')\n",
    "\n",
    "    garbage = ['landmark {', '  visibility: 0.0', '  presence: 0.0', '}']\n",
    "\n",
    "    without_garbage = []\n",
    "\n",
    "    for i in data:\n",
    "        if i not in garbage:\n",
    "            without_garbage.append(i)\n",
    "\n",
    "    clean = []\n",
    "\n",
    "    for i in without_garbage:\n",
    "        i = i.strip()\n",
    "        clean.append(i[2:])\n",
    "\n",
    "    for i in range(0, len(clean)):\n",
    "        clean[i] = float(clean[i])\n",
    "\n",
    "    \n",
    "    return([clean])\n",
    "\n",
    "  except:\n",
    "    return(np.zeros([1,63], dtype=int)[0])\n",
    "\n",
    "while cap.isOpened():\n",
    "  success, image = cap.read()\n",
    "  \n",
    "  image = cv2.flip(image, 1)\n",
    "  \n",
    "  if not success:\n",
    "    break\n",
    "\n",
    "  # Flip the image horizontally for a later selfie-view display, and convert\n",
    "  # the BGR image to RGB.\n",
    "  image = cv2.cvtColor(image, cv2.COLOR_BGR2RGB)\n",
    "  # To improve performance, optionally mark the image as not writeable to\n",
    "  # pass by reference.\n",
    "  image.flags.writeable = False\n",
    "  results = hands.process(image)\n",
    "\n",
    "  # Draw the hand annotations on the image.\n",
    "  image.flags.writeable = True\n",
    "\n",
    "  image = cv2.cvtColor(image, cv2.COLOR_RGB2BGR)\n",
    "\n",
    "  if results.multi_hand_landmarks:\n",
    "    for hand_landmarks in results.multi_hand_landmarks:\n",
    "      mp_drawing.draw_landmarks(\n",
    "          image, hand_landmarks, mp_hands.HAND_CONNECTIONS)\n",
    "\n",
    "    cleaned_landmark = data_clean(results.multi_hand_landmarks)\n",
    "    #print(cleaned_landmark)\n",
    "\n",
    "    if cleaned_landmark:\n",
    "      clf = joblib.load('model.pkl')\n",
    "      y_pred = clf.predict(cleaned_landmark)\n",
    "      if i==30:\n",
    "        if(k==0):\n",
    "          clf = joblib.load('model2.pkl')\n",
    "          y_pred = clf.predict(cleaned_landmark)\n",
    "          s+=str(dictionary[y_pred[0]])\n",
    "          print(\"vathhu: \")\n",
    "        if(k==1):\n",
    "          clf = joblib.load('model2.pkl')\n",
    "          y_pred = clf.predict(cleaned_landmark)\n",
    "          last=s[-1]\n",
    "          c=last\n",
    "#           print(\"b: \"+s[:-1])\n",
    "          s=str(s[:-1]+str(fun1(last, dictionary[str(y_pred[0])])))\n",
    "          print(\"gunintham: \")\n",
    "#           print(\"a: \"+s[:-1])\n",
    "#           print(\"s: \"+fun1(last, dictionary[str(y_pred[0])]))\n",
    "        if(k==2):\n",
    "          clf = joblib.load('model1.pkl')\n",
    "          y_pred = clf.predict(cleaned_landmark)\n",
    "          last=s[len(s)-3:]\n",
    "          print(last,dictionary[str(y_pred[0])],c)\n",
    "          s=s[:len(s)-3]+fun2(last,dictionary[str(y_pred[0])],c)\n",
    "          print(\"letter: \")\n",
    "        print(s)\n",
    "        print(\" \")\n",
    "        k=(k+1)%3\n",
    "#         print(k)\n",
    "        i=0\n",
    "      i+=1\n",
    "    image = cv2.putText(image, str(y_pred[0]), (50,150), cv2.FONT_HERSHEY_SIMPLEX,  3, (0,0,255), 2, cv2.LINE_AA) \n",
    "  cv2.imshow('MediaPipe Hands', image)\n",
    "  \n",
    "  if cv2.waitKey(5) & 0xFF == 27:\n",
    "    mytext = s\n",
    "    language = 'te'\n",
    "    myobj = gTTS(text=mytext, lang=language, slow=False)\n",
    "    myobj.save(\"sound.mp3\")\n",
    "    break\n",
    "\n",
    "hands.close()\n",
    "cap.release()\n",
    "cv2.destroyAllWindows()"
   ]
  },
  {
   "cell_type": "code",
   "execution_count": 15,
   "metadata": {},
   "outputs": [],
   "source": [
    "s=\"య్యాయ్యా\""
   ]
  },
  {
   "cell_type": "code",
   "execution_count": 16,
   "metadata": {},
   "outputs": [
    {
     "data": {
      "text/plain": [
       "8"
      ]
     },
     "execution_count": 16,
     "metadata": {},
     "output_type": "execute_result"
    }
   ],
   "source": [
    "len(s)"
   ]
  },
  {
   "cell_type": "code",
   "execution_count": 17,
   "metadata": {},
   "outputs": [
    {
     "name": "stdout",
     "output_type": "stream",
     "text": [
      "య్యా\n"
     ]
    }
   ],
   "source": [
    "print(s[len(s)-4:])"
   ]
  },
  {
   "cell_type": "code",
   "execution_count": 18,
   "metadata": {},
   "outputs": [
    {
     "ename": "NameError",
     "evalue": "name 'య్య' is not defined",
     "output_type": "error",
     "traceback": [
      "\u001b[0;31m---------------------------------------------------------------------------\u001b[0m",
      "\u001b[0;31mNameError\u001b[0m                                 Traceback (most recent call last)",
      "\u001b[0;32m<ipython-input-18-b90d9efd0dbc>\u001b[0m in \u001b[0;36m<module>\u001b[0;34m\u001b[0m\n\u001b[0;32m----> 1\u001b[0;31m \u001b[0mయ\u001b[0m\u001b[0;31m్\u001b[0m\u001b[0mయ\u001b[0m\u001b[0;34m\u001b[0m\u001b[0;34m\u001b[0m\u001b[0m\n\u001b[0m",
      "\u001b[0;31mNameError\u001b[0m: name 'య్య' is not defined"
     ]
    }
   ],
   "source": []
  },
  {
   "cell_type": "code",
   "execution_count": null,
   "metadata": {},
   "outputs": [],
   "source": []
  }
 ],
 "metadata": {
  "kernelspec": {
   "display_name": "Python 3",
   "language": "python",
   "name": "python3"
  },
  "language_info": {
   "codemirror_mode": {
    "name": "ipython",
    "version": 3
   },
   "file_extension": ".py",
   "mimetype": "text/x-python",
   "name": "python",
   "nbconvert_exporter": "python",
   "pygments_lexer": "ipython3",
   "version": "3.8.5"
  }
 },
 "nbformat": 4,
 "nbformat_minor": 4
}
